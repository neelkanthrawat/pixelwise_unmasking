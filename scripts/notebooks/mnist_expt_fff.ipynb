{
 "cells": [
  {
   "cell_type": "code",
   "execution_count": 1,
   "id": "b25c897d",
   "metadata": {},
   "outputs": [],
   "source": [
    "# load  the model\n",
    "# load  the dataloaders\n",
    "# see what the model is and how the model is being used"
   ]
  },
  {
   "cell_type": "code",
   "execution_count": 2,
   "id": "448d8c45",
   "metadata": {},
   "outputs": [],
   "source": [
    "import sys\n",
    "import os\n",
    "\n",
    "# Add project root (one directory up from notebooks)\n",
    "sys.path.append(os.path.abspath('..'))\n"
   ]
  },
  {
   "cell_type": "code",
   "execution_count": 3,
   "id": "d70baac0",
   "metadata": {},
   "outputs": [],
   "source": [
    "import torch\n",
    "\n",
    "\n",
    "# model related\n",
    "from models.fff_model import resnet, MLP, brazy_encoder, brazy_decoder, cond_conv_encoder, cond_conv_decoder, FreeFormFlow, condFreeFormFlow, ImprovedCNN\n",
    "from models.architectures_fff import BrazyConfig, get_encoder_and_decoder\n",
    "\n",
    "# model training related\n",
    "from models.feature_extractor_creator import train_feature_extractor\n",
    "\n",
    "#data related\n",
    "from data.dataloaders_related import get_mnist_dataloaders\n",
    "\n",
    "# plotting related\n",
    "from utils.plotting import  five_samples_same_model_during_training\n",
    "\n",
    "\n",
    "# trainer\n",
    "from training.trainer import train_model_mnist, test_model\n",
    "\n",
    "# \n",
    "import tqdm\n",
    "from typing import Literal\n",
    "from dataclasses import dataclass\n",
    "from typing import Literal, Union, Tuple, Any"
   ]
  },
  {
   "cell_type": "code",
   "execution_count": 4,
   "id": "2c53b1f8",
   "metadata": {},
   "outputs": [
    {
     "name": "stdout",
     "output_type": "stream",
     "text": [
      "cpu\n"
     ]
    }
   ],
   "source": [
    "device= 'cpu'#\"cuda\" if torch.cuda.is_available() else \"cpu\"\n",
    "print(device)\n",
    "\n",
    "pixelwidth = 28"
   ]
  },
  {
   "cell_type": "code",
   "execution_count": 5,
   "id": "ce7b19e5",
   "metadata": {},
   "outputs": [
    {
     "data": {
      "text/plain": [
       "FreeFormFlow(\n",
       "  (encoder): brazy_encoder(\n",
       "    (dropout): Dropout(p=0.1, inplace=False)\n",
       "    (conv1): Conv2d(1, 32, kernel_size=(3, 3), stride=(1, 1), padding=(1, 1))\n",
       "    (conv2): Conv2d(32, 64, kernel_size=(3, 3), stride=(1, 1), padding=(1, 1))\n",
       "    (conv3): Conv2d(64, 128, kernel_size=(3, 3), stride=(1, 1), padding=(1, 1))\n",
       "    (fc1): Linear(in_features=6272, out_features=256, bias=True)\n",
       "    (fc2): Linear(in_features=256, out_features=512, bias=True)\n",
       "    (latent): Linear(in_features=512, out_features=784, bias=True)\n",
       "    (batchnorm1): Identity()\n",
       "    (batchnorm2): Identity()\n",
       "  )\n",
       "  (decoder): brazy_decoder(\n",
       "    (dropout): Dropout(p=0.1, inplace=False)\n",
       "    (fc2): Linear(in_features=784, out_features=512, bias=True)\n",
       "    (fc1): Linear(in_features=512, out_features=256, bias=True)\n",
       "    (fc_to_conv): Linear(in_features=256, out_features=6272, bias=True)\n",
       "    (deconv3): ConvTranspose2d(128, 64, kernel_size=(3, 3), stride=(1, 1), padding=(1, 1))\n",
       "    (deconv2): ConvTranspose2d(64, 32, kernel_size=(3, 3), stride=(1, 1), padding=(1, 1))\n",
       "    (deconv1): ConvTranspose2d(32, 1, kernel_size=(3, 3), stride=(1, 1), padding=(1, 1))\n",
       "    (batchnorm1): Identity()\n",
       "    (batchnorm2): Identity()\n",
       "  )\n",
       ")"
      ]
     },
     "execution_count": 5,
     "metadata": {},
     "output_type": "execute_result"
    }
   ],
   "source": [
    "# mlp_cfg = MLPConfig(pixelwidth=28, fff_dim=128, fff_layers=3)\n",
    "# resnet_cfg = ResNetConfig(pixelwidth=28, fff_dim=128, fff_layers=2, fff_resnet_blocks=4)\n",
    "brazy_cfg = BrazyConfig(\n",
    "    fff_c_small = 32,\n",
    "    fff_f1_dim = 256,\n",
    "    fff_f2_dim = 512,\n",
    "    third_convolutional_layer = True,\n",
    "    fff_batchnorm = False,\n",
    "    fff_dropout = 0.1\n",
    ")\n",
    "\n",
    "encoder, decoder = get_encoder_and_decoder(\"brazy\", brazy_cfg, device=\"cuda\")\n",
    "# get the model\n",
    "fours_fff = FreeFormFlow(encoder, decoder, device=device, data_dims=pixelwidth**2).to(device)\n",
    "fours_fff"
   ]
  },
  {
   "cell_type": "markdown",
   "id": "f2832f1a",
   "metadata": {},
   "source": [
    "### Training some feature extractors"
   ]
  },
  {
   "cell_type": "code",
   "execution_count": 6,
   "id": "ea4c4d60",
   "metadata": {},
   "outputs": [
    {
     "name": "stdout",
     "output_type": "stream",
     "text": [
      "Test Accuracy: 100.00%\n",
      "Test Accuracy: 100.00%\n"
     ]
    }
   ],
   "source": [
    "# Hyperparameters\n",
    "batch_size_feat_extractor = 64\n",
    "learning_rate_feat_extractor= 0.001\n",
    "epochs_feat_extractor = 5\n",
    "\n",
    "# DataLoaders\n",
    "train_loader, test_loader = get_mnist_dataloaders(batchsize=batch_size_feat_extractor, pixelwidth=28, digit=4)\n",
    "zero_one_train_loader, zero_one_test_loader = get_mnist_dataloaders(batchsize=batch_size_feat_extractor, pixelwidth=28, digit=4, zero_one_range=True)\n",
    "\n",
    "# Train both models\n",
    "fid_feature_extractor = train_feature_extractor(\n",
    "    ImprovedCNN, train_loader, device, learning_rate_feat_extractor, epochs_feat_extractor\n",
    ")\n",
    "\n",
    "zero_one_fid_feature_extractor = train_feature_extractor(\n",
    "    ImprovedCNN, zero_one_train_loader, device, learning_rate_feat_extractor, epochs_feat_extractor\n",
    ")\n",
    "\n",
    "# Evaluate the model on test data\n",
    "test_model(fid_feature_extractor, test_loader)\n",
    "test_model(zero_one_fid_feature_extractor, zero_one_test_loader)"
   ]
  },
  {
   "cell_type": "markdown",
   "id": "37d278bc",
   "metadata": {},
   "source": [
    "### Training the FFF model"
   ]
  },
  {
   "cell_type": "code",
   "execution_count": null,
   "id": "430d5d82",
   "metadata": {},
   "outputs": [],
   "source": [
    "# code to fix: fix the check_acfff_classification_quality thingy (for the time being I have set it to False.)"
   ]
  },
  {
   "cell_type": "code",
   "execution_count": 8,
   "id": "a627fd44",
   "metadata": {},
   "outputs": [],
   "source": [
    "# train the model\n",
    "fours_fff, fours_fff_metrics, fours_fff_snapshots = train_model_mnist(fours_fff,\n",
    "                                                    model_name=\"fff\",\n",
    "                                                    digit=4,\n",
    "                                                    pixelwidth=pixelwidth,\n",
    "                                                    epochs=10,\n",
    "                                                    lr=0.0008,\n",
    "                                                    batchsize=500,\n",
    "                                                    beta_r=1.,\n",
    "                                                    fid_feature_extractor=fid_feature_extractor,\n",
    "                                                    ridge=None,\n",
    "                                                    dequantization=None,\n",
    "                                                    calculate_mmd=False,\n",
    "                                                    calculate_fid=True,\n",
    "                                                    weight_decay=1e-5,\n",
    "                                                    lr_schedule=False,\n",
    "                                                    calculate_is=False,\n",
    "                                                    zero_one_range=False,\n",
    "                                                    check_acfff_classification_quality=False)"
   ]
  },
  {
   "cell_type": "code",
   "execution_count": 9,
   "id": "0a7e704b",
   "metadata": {},
   "outputs": [],
   "source": [
    "import matplotlib.pyplot  as plt\n",
    "from matplotlib.colors import Normalize\n",
    "from matplotlib.ticker import LogLocator\n",
    "import numpy as np"
   ]
  },
  {
   "cell_type": "code",
   "execution_count": null,
   "id": "4c0f5a9b",
   "metadata": {},
   "outputs": [],
   "source": [
    "five_samples_same_model_during_training(fours_fff_snapshots, n_epochs=1000)#, save_path=\"best_fours_samples.png\")"
   ]
  },
  {
   "cell_type": "code",
   "execution_count": 11,
   "id": "24f57708",
   "metadata": {},
   "outputs": [
    {
     "data": {
      "image/png": "[encoded data removed]",
      "text/plain": [
       "<Figure size 640x480 with 2 Axes>"
      ]
     },
     "metadata": {},
     "output_type": "display_data"
    }
   ],
   "source": [
    "line1 = plt.plot(fours_fff_metrics[\"loss\"], label=\"Loss\")[0]\n",
    "plt.yscale(\"log\")\n",
    "plt.ylabel(\"Loss\")\n",
    "ax = plt.twinx()\n",
    "ax.set_yscale(\"log\")\n",
    "line2 = ax.plot(fours_fff_metrics[\"fid\"][0], fours_fff_metrics[\"fid\"][1], color=\"red\", label=\"FID\")[0]\n",
    "ax.set_ylabel(\"FID\")\n",
    "plt.xlabel(\"Epochs\")\n",
    "\n",
    "lines = [line1,line2]\n",
    "labels = [line.get_label() for line in lines]\n",
    "plt.legend(lines, labels)\n",
    "\n",
    "ax.yaxis.set_major_locator(LogLocator(base=10.0, numticks=10))  # Major ticks\n",
    "ax.yaxis.set_minor_locator(LogLocator(base=10.0, subs=np.arange(1, 10) * 0.1, numticks=10))  # Minor ticks\n",
    "\n",
    "plt.grid(plt.grid(which='both', linestyle='--', linewidth=0.5))\n",
    "\n",
    "ax.minorticks_on()"
   ]
  }
 ],
 "metadata": {
  "kernelspec": {
   "display_name": "fff",
   "language": "python",
   "name": "python3"
  },
  "language_info": {
   "codemirror_mode": {
    "name": "ipython",
    "version": 3
   },
   "file_extension": ".py",
   "mimetype": "text/x-python",
   "name": "python",
   "nbconvert_exporter": "python",
   "pygments_lexer": "ipython3",
   "version": "3.12.11"
  }
 },
 "nbformat": 4,
 "nbformat_minor": 5
}
